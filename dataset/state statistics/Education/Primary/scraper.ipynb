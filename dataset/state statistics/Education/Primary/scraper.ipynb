{
 "cells": [
  {
   "cell_type": "code",
   "execution_count": 1,
   "metadata": {},
   "outputs": [
    {
     "name": "stderr",
     "output_type": "stream",
     "text": [
      "/home/annie/anaconda/lib/python3.6/site-packages/bs4/__init__.py:181: UserWarning: No parser was explicitly specified, so I'm using the best available HTML parser for this system (\"lxml\"). This usually isn't a problem, but if you run this code on another system, or in a different virtual environment, it may use a different parser and behave differently.\n",
      "\n",
      "The code that caused this warning is on line 193 of the file /home/annie/anaconda/lib/python3.6/runpy.py. To get rid of this warning, change code that looks like this:\n",
      "\n",
      " BeautifulSoup(YOUR_MARKUP})\n",
      "\n",
      "to this:\n",
      "\n",
      " BeautifulSoup(YOUR_MARKUP, \"lxml\")\n",
      "\n",
      "  markup_type=markup_type))\n"
     ]
    },
    {
     "name": "stdout",
     "output_type": "stream",
     "text": [
      "['http://niti.gov.in/writereaddata/files/Enrolment%20Ratios.xlsx', 'http://niti.gov.in/writereaddata/files/Primary%20Education%20Indicators%202003-04.xlsx', 'http://niti.gov.in/writereaddata/files/Primary%20Education%20Indicators%202005-06.xlsx', 'http://niti.gov.in/writereaddata/files/Primary%20Education%20Indicators%202006-07.xlsx', 'http://niti.gov.in/writereaddata/files/Primary%20Education%20Indicators%202008-09.xlsx', 'http://niti.gov.in/writereaddata/files/Primary%20Education%20Indicators%202009-10.xlsx', 'http://niti.gov.in/writereaddata/files/Primary%20Education%20Indicators%202010-11.xlsx', 'http://niti.gov.in/writereaddata/files/Primary%20Education%20Indicators%202011-12.xlsx', 'http://niti.gov.in/writereaddata/files/Primary%20Education%20Indicators%202012-13.xlsx', 'http://niti.gov.in/writereaddata/files/Primary%20Education%20Indicators%202013-14.xlsx', 'http://niti.gov.in/writereaddata/files/Primary%20Education%20Indicators%202014-15.xlsx', 'http://niti.gov.in/writereaddata/files/Primary%20Education%20Indicators%202015-16.xlsx']\n"
     ]
    }
   ],
   "source": [
    "import requests\n",
    "import re\n",
    "from bs4 import BeautifulSoup\n",
    "from urllib.request import urlretrieve\n",
    "\n",
    "url  = \"http://niti.gov.in/content/primary\"\n",
    "r = BeautifulSoup(requests.get(url).text)\n",
    "\n",
    "a_tag = r.find_all('a',href = re.compile('.xlsx'))\n",
    "link=[]\n",
    "for each in a_tag:\n",
    "    link.append(each.get('href'))\n",
    "\n",
    "print (link)\n",
    " \n",
    "for each in link:\n",
    "    filename = each.split('/')[-1]\n",
    "    urlretrieve(each, filename)\n",
    "    "
   ]
  },
  {
   "cell_type": "code",
   "execution_count": null,
   "metadata": {
    "collapsed": true
   },
   "outputs": [],
   "source": [
    "from urllib.request import urlretrieve\n"
   ]
  }
 ],
 "metadata": {
  "kernelspec": {
   "display_name": "Python 3",
   "language": "python",
   "name": "python3"
  },
  "language_info": {
   "codemirror_mode": {
    "name": "ipython",
    "version": 3
   },
   "file_extension": ".py",
   "mimetype": "text/x-python",
   "name": "python",
   "nbconvert_exporter": "python",
   "pygments_lexer": "ipython3",
   "version": "3.6.3"
  }
 },
 "nbformat": 4,
 "nbformat_minor": 2
}
